{
 "cells": [
  {
   "cell_type": "code",
   "execution_count": 1,
   "metadata": {},
   "outputs": [],
   "source": [
    "%load_ext autoreload\n",
    "%autoreload 2"
   ]
  },
  {
   "cell_type": "code",
   "execution_count": null,
   "metadata": {},
   "outputs": [],
   "source": [
    "import anndata\n",
    "import h5py\n",
    "import matplotlib.pyplot as plt\n",
    "import os\n",
    "import seaborn as sns\n",
    "import scanpy as sc\n",
    "import pandas as pd\n",
    "import torch\n",
    "\n",
    "from scbasset.scbasset_utils import motif_score\n",
    "from scbasset.utils import *\n",
    "from scbasset.model_class import ModelClass\n",
    "from scbasset.config import Config"
   ]
  },
  {
   "cell_type": "markdown",
   "metadata": {},
   "source": [
    "### download data"
   ]
  },
  {
   "cell_type": "markdown",
   "metadata": {},
   "source": [
    "### path to input data"
   ]
  },
  {
   "cell_type": "code",
   "execution_count": null,
   "metadata": {},
   "outputs": [],
   "source": [
    "start_directory = '../../'\n",
    "# start_directory = ''\n",
    "motif_fasta_folder = start_directory + 'data/download/Homo_sapiens_motif_fasta'"
   ]
  },
  {
   "cell_type": "markdown",
   "metadata": {},
   "source": [
    "### Path to input data "
   ]
  },
  {
   "cell_type": "code",
   "execution_count": null,
   "metadata": {},
   "outputs": [],
   "source": [
    "seq_len = 768\n",
    "# type_data, file_name = 'multiome_example', 'pbmc_multiome'\n",
    "type_data, file_name = 'TF_to_region', 'TF_to_region_hvg'\n",
    "# type_data, file_name = 'TF_to_region', 'TF_to_region_marker_genes'\n",
    "\n",
    "data_path = start_directory + 'data/' + type_data + '/processed/'\n",
    "\n",
    "ad_file = data_path + file_name + '-' + str(seq_len) + '-ad.h5ad'\n",
    "h5_file = data_path + file_name + '-' + str(seq_len) + '-train_val_test.h5'"
   ]
  },
  {
   "cell_type": "markdown",
   "metadata": {},
   "source": [
    "### load the data and trained model"
   ]
  },
  {
   "cell_type": "code",
   "execution_count": null,
   "metadata": {},
   "outputs": [],
   "source": [
    "f = h5py.File(h5_file, 'r')\n",
    "X = f['X'][:].astype('float32')\n",
    "Y = f['Y'][:].astype('float32')\n",
    "\n",
    "n_TFs = Y.shape[1]\n",
    "ic(n_TFs, Y.shape[0])"
   ]
  },
  {
   "cell_type": "code",
   "execution_count": null,
   "metadata": {},
   "outputs": [],
   "source": [
    "# read h5ad file\n",
    "ad = anndata.read_h5ad(ad_file)\n",
    "ad"
   ]
  },
  {
   "cell_type": "code",
   "execution_count": null,
   "metadata": {},
   "outputs": [],
   "source": [
    "# os.makedirs(\"../..\", exist_ok=True)\n",
    "print(torch.cuda.is_available())\n",
    "device = \"cuda\"\n",
    "if \"cuda\" in device and not torch.cuda.is_available():\n",
    "    device = \"cpu\"\n",
    "else:\n",
    "    torch.cuda.set_device(0)\n",
    "\n",
    "print(device)"
   ]
  },
  {
   "cell_type": "code",
   "execution_count": null,
   "metadata": {},
   "outputs": [],
   "source": [
    "config = Config()\n",
    "config.h5_file = h5_file\n",
    "config.bottleneck_size = 32\n",
    "config.activation_fct = 'relu'\n",
    "config.model_name = 'tfbanformer'\n",
    "config.num_heads = 8\n",
    "config.num_transforms = 7\n",
    "config.repeat = 5\n",
    "\n",
    "print(config)"
   ]
  },
  {
   "cell_type": "code",
   "execution_count": null,
   "metadata": {},
   "outputs": [],
   "source": [
    "# load model\n",
    "dashboard_model = ModelClass(config, n_TFs=n_TFs)\n",
    "dashboard_model.activate_analysis()\n",
    "dashboard_model.load_weights(device=device)\n",
    "# dashboard_model.get_model_summary()\n",
    "model = dashboard_model.model"
   ]
  },
  {
   "cell_type": "markdown",
   "metadata": {},
   "source": [
    "### score a TF of interest"
   ]
  },
  {
   "cell_type": "code",
   "execution_count": null,
   "metadata": {},
   "outputs": [],
   "source": [
    "latent_representation, weights = get_latent_representation_and_weights(model, X, Y)\n",
    "ic(latent_representation.shape, weights.shape)"
   ]
  },
  {
   "cell_type": "code",
   "execution_count": null,
   "metadata": {},
   "outputs": [],
   "source": [
    "# TF_act = 'CTCF'\n",
    "# scores = motif_score(TF_act, model, motif_fasta_folder=motif_fasta_folder, n_TFs=n_TFs)\n",
    "# ad.obs[TF_act + '_activity'] = scores\n",
    "# print(ad)"
   ]
  },
  {
   "cell_type": "code",
   "execution_count": null,
   "metadata": {},
   "outputs": [],
   "source": [
    "proj = get_TF_embedding(model) \n",
    "print(len(proj))\n",
    "pd.DataFrame(proj).to_csv('results/projection_atac.csv')\n",
    "ad.obsm['projection'] = pd.read_csv('results/projection_atac.csv', index_col=0).values"
   ]
  },
  {
   "cell_type": "code",
   "execution_count": null,
   "metadata": {},
   "outputs": [],
   "source": [
    "ad.var"
   ]
  },
  {
   "cell_type": "code",
   "execution_count": null,
   "metadata": {},
   "outputs": [],
   "source": [
    "ad.obs"
   ]
  },
  {
   "cell_type": "markdown",
   "metadata": {},
   "source": [
    "### Latent representation"
   ]
  },
  {
   "cell_type": "code",
   "execution_count": null,
   "metadata": {},
   "outputs": [],
   "source": [
    "ad_regions = ad.T\n",
    "ad_regions = prepare_leiden_representation(adata=ad_regions)\n",
    "# sc.pp.neighbors(ad.T, use_rep='projection')\n",
    "# sc.tl.umap(ad)"
   ]
  },
  {
   "cell_type": "code",
   "execution_count": null,
   "metadata": {},
   "outputs": [],
   "source": [
    "ad_latent = sc.AnnData(latent_representation)\n",
    "ad_latent = ad_latent\n",
    "\n",
    "ad_latent.obs.index = ad_regions.obs.index\n",
    "ad_latent = prepare_leiden_representation(adata=ad_latent)\n",
    "\n",
    "ad_latent.obs['leiden_original'] = ad_regions.obs['leiden'].values\n",
    "ad_regions.obs['leiden_learned'] = ad_latent.obs['leiden'].values"
   ]
  },
  {
   "cell_type": "code",
   "execution_count": null,
   "metadata": {},
   "outputs": [],
   "source": [
    "sc.pp.filter_cells(ad_latent, min_genes=0)\n",
    "sc.pp.filter_genes(ad_latent, min_cells=0)"
   ]
  },
  {
   "cell_type": "markdown",
   "metadata": {},
   "source": [
    "#### Plot latent representation"
   ]
  },
  {
   "cell_type": "code",
   "execution_count": null,
   "metadata": {},
   "outputs": [],
   "source": [
    "f, axs = plt.subplots(ncols=1, nrows=4, figsize=(10, 20))\n",
    "sc.pl.umap(ad_regions, color='leiden', ax=axs[0], show=False)\n",
    "sc.pl.umap(ad_regions, color='EXP030880.CD4_T-cells.CTCF.MA0139.1', ax=axs[1], show=False)\n",
    "sc.pl.umap(ad_latent, color='leiden', ax=axs[2], show=False)\n",
    "sc.pl.umap(ad_latent, color='leiden_original', ax=axs[3])\n",
    "# sc.pl.umap(ad, color='cell_type', ax=axs[1])\n",
    "# sc.pl.umap(ad, color=TF_act + '_activity', ax=axs[0][1], cmap='coolwarm', vmin=-2, vmax=2, show=False)\n",
    "# sc.pl.umap(ad.T, color='TF', ax=axs[1][1], show=False)\n",
    "\n",
    "# f.tight_layout()"
   ]
  },
  {
   "cell_type": "markdown",
   "metadata": {},
   "source": [
    "#### Jaccard index"
   ]
  },
  {
   "cell_type": "code",
   "execution_count": null,
   "metadata": {},
   "outputs": [],
   "source": [
    "df_jaccard_matrix_latent = compute_jaccard_matrix(ad_latent)"
   ]
  },
  {
   "cell_type": "code",
   "execution_count": null,
   "metadata": {},
   "outputs": [],
   "source": [
    "sns.heatmap(df_jaccard_matrix_latent)"
   ]
  },
  {
   "cell_type": "markdown",
   "metadata": {},
   "source": [
    "### TF Representation"
   ]
  },
  {
   "cell_type": "code",
   "execution_count": null,
   "metadata": {},
   "outputs": [],
   "source": [
    "ad_TF = ad\n",
    "\n",
    "# sc.pp.neighbors(ad_TF, use_rep='projection')\n",
    "ad_TF = prepare_leiden_representation(ad_TF)\n",
    "ad_TF"
   ]
  },
  {
   "cell_type": "code",
   "execution_count": null,
   "metadata": {},
   "outputs": [],
   "source": [
    "ad_weights = sc.AnnData(weights)\n",
    "ad_weights.obs.index = ad_TF.obs.index\n",
    "ad_weights = prepare_leiden_representation(ad_weights)\n",
    "ad_weights.obs['leiden_original'] = ad_TF.obs['leiden'].values\n",
    "ad_TF.obs['leiden_learned'] = ad_weights.obs['leiden'].values\n",
    "ad_weights"
   ]
  },
  {
   "cell_type": "code",
   "execution_count": null,
   "metadata": {},
   "outputs": [],
   "source": [
    "data = pd.DataFrame(ad_weights.X)\n",
    "data"
   ]
  },
  {
   "cell_type": "markdown",
   "metadata": {},
   "source": [
    "#### Plot TF represenation"
   ]
  },
  {
   "cell_type": "code",
   "execution_count": null,
   "metadata": {},
   "outputs": [],
   "source": [
    "f, axs = plt.subplots(ncols=1, nrows=3, figsize=(10, 15))\n",
    "sc.pl.umap(ad_TF, color='leiden', ax=axs[0], show=False)\n",
    "sc.pl.umap(ad_TF, color='leiden_learned', ax=axs[1], show=False)\n",
    "# sc.pl.umap(ad_TF, color=TF_act + '_activity', ax=axs[1], cmap='coolwarm', vmin=-2, vmax=2, show=False)\n",
    "sc.pl.umap(ad_weights, color='leiden', ax=axs[2], show=False)\n",
    "# sc.pl.umap(ad_weights, color='leiden_original', ax=axs[3])\n",
    "sc.pl.draw_graph(ad_weights, ax=axs[3])\n",
    "# sc.pl.umap(ad, color='cell_type', ax=axs[1])\n",
    "# sc.pl.umap(ad.T, color='TF', ax=axs[1][1], show=False)\n",
    "# sc.pl.umap(ad, color='EXP030880.CD4_T-cells.CTCF.MA0139.1', ax=axs[1])\n",
    "# f.tight_layout()"
   ]
  },
  {
   "cell_type": "markdown",
   "metadata": {},
   "source": [
    "#### Jaccard Index TF representation"
   ]
  },
  {
   "cell_type": "code",
   "execution_count": null,
   "metadata": {},
   "outputs": [],
   "source": [
    "df_jaccard_matrix_TF = compute_jaccard_matrix(ad_weights)"
   ]
  },
  {
   "cell_type": "code",
   "execution_count": null,
   "metadata": {},
   "outputs": [],
   "source": [
    "sns.heatmap(df_jaccard_matrix_TF)"
   ]
  }
 ],
 "metadata": {
  "interpreter": {
   "hash": "c41faec44246c34796cd66b60999b7c96be8cc3f2ed835e24887a936ef815135"
  },
  "kernelspec": {
   "display_name": "Python 3 (ipykernel)",
   "language": "python",
   "name": "python3"
  }
 },
 "nbformat": 4,
 "nbformat_minor": 4
}
