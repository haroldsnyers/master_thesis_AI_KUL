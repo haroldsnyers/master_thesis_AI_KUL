{
 "cells": [
  {
   "cell_type": "code",
   "execution_count": 1,
   "metadata": {},
   "outputs": [],
   "source": [
    "%load_ext autoreload\n",
    "%autoreload 2"
   ]
  },
  {
   "cell_type": "code",
   "execution_count": 2,
   "metadata": {},
   "outputs": [],
   "source": [
    "import h5py\n",
    "import anndata\n",
    "import json\n",
    "import numpy as np\n",
    "import subprocess\n",
    "import os\n",
    "\n",
    "from scbasset.utils import *"
   ]
  },
  {
   "cell_type": "markdown",
   "metadata": {},
   "source": [
    "### Preprocessing"
   ]
  },
  {
   "cell_type": "code",
   "execution_count": 3,
   "metadata": {},
   "outputs": [],
   "source": [
    "# start_directory = ''\n",
    "start_directory = '../../../'\n",
    "cbust_dir = 'result/tfbanformer-TF_to_region_hvg-64_768_4_8_7_32_relu_1-122-'\n",
    "cbust_type = 'train'\n",
    "\n",
    "seq_len = 768\n",
    "# type_data, file_name = 'multiome_example', 'pbmc_multiome'\n",
    "type_data, file_name = 'TF_to_region', 'TF_to_region_hvg'\n",
    "# type_data, file_name = 'TF_to_region', 'TF_to_region_marker_genes'\n",
    "\n",
    "data_path = start_directory + 'data/' + type_data + '/processed/'\n",
    "\n",
    "ad_file = data_path + file_name + '-' + str(seq_len) + '-ad.h5ad'\n",
    "h5_file = data_path + file_name + '-' + str(seq_len) + '-train_val_test.h5'"
   ]
  },
  {
   "cell_type": "code",
   "execution_count": 4,
   "metadata": {},
   "outputs": [
    {
     "name": "stderr",
     "output_type": "stream",
     "text": [
      "Variable names are not unique. To make them unique, call `.var_names_make_unique`.\n"
     ]
    }
   ],
   "source": [
    "# read h5ad file\n",
    "adata = anndata.read_h5ad(ad_file)\n",
    "f = h5py.File(h5_file, 'r')\n",
    "X = f['X'][:].astype('float32')\n",
    "Y = f['Y'][:].astype('float32')"
   ]
  },
  {
   "cell_type": "code",
   "execution_count": 5,
   "metadata": {},
   "outputs": [
    {
     "name": "stdout",
     "output_type": "stream",
     "text": [
      "{'250-724': {'TF': ['EBF1', 'PAX5'], 'motif_model': ['MA0154.4', 'MA0014.3'], 'auc_roc': [0.8159366790383675, 0.9017281135796048], 'auc_pr': [0.29746820190068934, 0.5234551142660586], 'regions': [6430, 8178, 2661, 6997, 3002, 6472, 9806, 10651, 3954, 11432, 2806, 7341, 6403, 4564, 10619, 7990, 5572, 6520, 4341, 4719]}, '804': {'TF': 'SPI1', 'motif_model': 'MA0080.5', 'auc_roc': 0.9854848333124714, 'auc_pr': 0.8760934504971222, 'regions': [6430, 8178, 2661, 6997, 3002, 6472, 9806, 10651, 3954, 11432, 2806, 7341, 6403, 4564, 10619, 7990, 5572, 6520, 4341, 4719]}, '822': {'TF': 'CTCF', 'motif_model': 'MA0139.1', 'auc_roc': 0.9893699624644994, 'auc_pr': 0.9332091428690842, 'regions': [6430, 8178, 2661, 6997, 3002, 6472, 9806, 10651, 3954, 11432, 2806, 7341, 6403, 4564, 10619, 7990, 5572, 6520, 4341, 4719]}, '435': {'TF': 'JUN', 'motif_model': 'MA0462.2', 'auc_roc': 0.9903957588392335, 'auc_pr': 0.8463998148838878, 'regions': [6430, 8178, 2661, 6997, 3002, 6472, 9806, 10651, 3954, 11432, 2806, 7341, 6403, 4564, 10619, 7990, 5572, 6520, 4341, 4719]}}\n"
     ]
    }
   ],
   "source": [
    "with open(cbust_dir + cbust_type + '_region_ISM.json') as json_file:\n",
    "    data = json.load(json_file)\n",
    "    print(data)"
   ]
  },
  {
   "cell_type": "code",
   "execution_count": 10,
   "metadata": {},
   "outputs": [
    {
     "name": "stdout",
     "output_type": "stream",
     "text": [
      "jaspar__MA0154.3\n",
      "jaspar__MA0014.2\n",
      "jaspar__MA0080.4\n",
      "jaspar__MA0139.1\n",
      "jaspar__MA0462.1\n"
     ]
    }
   ],
   "source": [
    "save_as_fasta_and_txt(data, adata, X, type_data=cbust_type)"
   ]
  },
  {
   "cell_type": "markdown",
   "metadata": {},
   "source": [
    "### Cbust extraction"
   ]
  },
  {
   "cell_type": "markdown",
   "metadata": {},
   "source": [
    "##### create motif bedfiles"
   ]
  },
  {
   "cell_type": "code",
   "execution_count": 12,
   "metadata": {},
   "outputs": [
    {
     "name": "stdout",
     "output_type": "stream",
     "text": [
      "True\n",
      "250-724\n",
      "804\n",
      "822\n",
      "435\n"
     ]
    }
   ],
   "source": [
    "path = r\"cbust_bash.sh\"\n",
    "print(os.path.isfile(path))\n",
    "with open(path, \"r\") as f:\n",
    "    pass\n",
    "\n",
    "file_dir = \"result/\"\n",
    "\n",
    "for TF in data:\n",
    "    print(TF)\n",
    "    if len(TF.split('-')) > 1:\n",
    "        TFs = TF.split('-')\n",
    "        for i in range(len(TFs)):\n",
    "            subprocess.call([path,\n",
    "                'fasta_' + data[TF]['TF'][i] + \"_\" + cbust_type + \".fa\", \n",
    "                file_dir,\n",
    "                data[TF]['TF'][i] + \"_\" + cbust_type])\n",
    "            \n",
    "    else:\n",
    "        subprocess.call([path,\n",
    "                'fasta_' + data[TF]['TF'] + \"_\" + cbust_type + \".fa\", \n",
    "                file_dir,\n",
    "                data[TF]['TF'] + \"_\" + cbust_type])\n",
    "    "
   ]
  },
  {
   "cell_type": "markdown",
   "metadata": {},
   "source": [
    "##### Extract cbust motifs"
   ]
  },
  {
   "cell_type": "code",
   "execution_count": 14,
   "metadata": {},
   "outputs": [
    {
     "data": {
      "text/plain": [
       "{'EBF1-PAX5': {'EBF1': {'cbust_mot': {'chr17:3904040-3904540': {'jaspar__MA0154.3': [[442,\n",
       "       456,\n",
       "       5.53,\n",
       "       '+'],\n",
       "      [442, 456, 5.3, '-'],\n",
       "      [568, 582, 0.7, '+'],\n",
       "      [568, 582, 6.03, '-']]},\n",
       "    'chr22:39487494-39487994': {'jaspar__MA0154.3': [[85, 99, 4.94, '+'],\n",
       "      [85, 99, 1.21, '-']]},\n",
       "    'chr6:7545331-7545831': {'jaspar__MA0154.3': [[119, 133, 4.05, '+'],\n",
       "      [119, 133, 1.83, '-']]},\n",
       "    'chr22:31251680-31252180': {'jaspar__MA0154.3': [[273, 287, 0.958, '+'],\n",
       "      [273, 287, 6.78, '-']]},\n",
       "    'chr19:49473986-49474486': {'jaspar__MA0154.3': [[454, 468, 3.74, '+'],\n",
       "      [454, 468, 3.66, '-']]},\n",
       "    'chr19:48365004-48365504': {'jaspar__MA0154.3': [[236, 250, 4.98, '+'],\n",
       "      [236, 250, 3.13, '-'],\n",
       "      [352, 366, 3.6, '+'],\n",
       "      [352, 366, 2.55, '-'],\n",
       "      [713, 727, 3.59, '+'],\n",
       "      [713, 727, 2.3, '-']]},\n",
       "    'chr1:85330764-85331264': {'jaspar__MA0154.3': [[433, 447, 4.37, '+'],\n",
       "      [433, 447, 5.44, '-'],\n",
       "      [172, 186, 3.48, '+'],\n",
       "      [172, 186, 1.03, '-']]},\n",
       "    'chr2:230931717-230932217': {'jaspar__MA0154.3': [[156, 170, 7.82, '+'],\n",
       "      [156, 170, 4.52, '-']]},\n",
       "    'chr6:73421678-73422178': {'jaspar__MA0154.3': [[592, 606, 0.464, '+'],\n",
       "      [592, 606, 4.12, '-'],\n",
       "      [668, 682, 1.45, '+'],\n",
       "      [668, 682, 3.08, '-'],\n",
       "      [554, 568, 3.16, '+'],\n",
       "      [554, 568, 0.4, '-'],\n",
       "      [349, 363, 3.17, '+']]},\n",
       "    'chr13:27621480-27621980': {'jaspar__MA0154.3': [[270, 284, 3.31, '+'],\n",
       "      [270, 284, 6.64, '-']]},\n",
       "    'chr16:27972438-27972938': {'jaspar__MA0154.3': [[500, 514, 1.8, '+'],\n",
       "      [500, 514, 5.09, '-']]}},\n",
       "   'all_mot': {'jaspar__MA0154.3': ['#004D43']},\n",
       "   'TF_info': {'TF_id': 250,\n",
       "    'auc_roc': 0.8159366790383675,\n",
       "    'auc_pr': 0.29746820190068934}},\n",
       "  'PAX5': {'cbust_mot': {'chr19:38814317-38814817': {'jaspar__MA0014.2': [[464,\n",
       "       483,\n",
       "       8.69,\n",
       "       '-'],\n",
       "      [341, 360, 6.54, '-'],\n",
       "      [662, 681, 5.51, '-'],\n",
       "      [598, 617, 4.38, '+']]},\n",
       "    'chr17:3904040-3904540': {'jaspar__MA0014.2': [[679, 698, 5.27, '-'],\n",
       "      [200, 219, 3.86, '+']]},\n",
       "    'chr7:99629389-99629889': {'jaspar__MA0014.2': [[609, 628, 5.15, '+'],\n",
       "      [219, 238, 4.5, '-']]},\n",
       "    'chr22:39487494-39487994': {'jaspar__MA0014.2': [[703, 722, 5.34, '-']]},\n",
       "    'chr22:31251680-31252180': {'jaspar__MA0014.2': [[603, 622, 6.66, '-'],\n",
       "      [435, 454, 5.96, '+'],\n",
       "      [714, 733, 1.31, '-'],\n",
       "      [715, 734, 3.44, '-']]},\n",
       "    'chr5:42748872-42749372': {'jaspar__MA0014.2': [[359, 378, 3.96, '-']]},\n",
       "    'chr6:107489954-107490454': {'jaspar__MA0014.2': [[119, 138, 4.38, '+']]},\n",
       "    'chr19:49473986-49474486': {'jaspar__MA0014.2': [[520, 539, 4.79, '-']]},\n",
       "    'chr19:50438213-50438713': {'jaspar__MA0014.2': [[721, 740, 6.18, '+'],\n",
       "      [633, 652, 5.66, '+'],\n",
       "      [570, 589, 5.18, '+']]},\n",
       "    'chr2:20669355-20669855': {'jaspar__MA0014.2': [[416, 435, 4.18, '-'],\n",
       "      [325, 344, 3.51, '+']]},\n",
       "    'chr2:230931717-230932217': {'jaspar__MA0014.2': [[488, 507, 5.48, '+'],\n",
       "      [214, 233, 4.94, '-']]},\n",
       "    'chr4:185208636-185209136': {'jaspar__MA0014.2': [[82, 101, 5.24, '+'],\n",
       "      [160, 179, 5.08, '+'],\n",
       "      [650, 669, 4.37, '+'],\n",
       "      [607, 626, 3.94, '-']]},\n",
       "    'chr6:73421678-73422178': {'jaspar__MA0014.2': [[255, 274, 10.3, '+'],\n",
       "      [648, 667, 4.41, '-'],\n",
       "      [723, 742, 4.05, '+']]},\n",
       "    'chr13:27621480-27621980': {'jaspar__MA0014.2': [[281, 300, 5.79, '+'],\n",
       "      [377, 396, 3.45, '-'],\n",
       "      [384, 403, 3.79, '+']]},\n",
       "    'chr17:59187792-59188292': {'jaspar__MA0014.2': [[53, 72, 8.05, '+'],\n",
       "      [141, 160, 4.62, '+'],\n",
       "      [93, 112, 3.59, '+']]},\n",
       "    'chr16:27972438-27972938': {'jaspar__MA0014.2': [[682, 701, 5.07, '+'],\n",
       "      [296, 315, 3.9, '+']]}},\n",
       "   'all_mot': {'jaspar__MA0014.2': ['#004D43']},\n",
       "   'TF_info': {'TF_id': 724,\n",
       "    'auc_roc': 0.9017281135796048,\n",
       "    'auc_pr': 0.5234551142660586}}},\n",
       " 'SPI1': {'cbust_mot': {'chr19:38814317-38814817': {'jaspar__MA0080.4': [[270,\n",
       "      284,\n",
       "      3.35,\n",
       "      '+']]},\n",
       "   'chr4:185208636-185209136': {'jaspar__MA0080.4': [[514, 528, 6.45, '+']]}},\n",
       "  'all_mot': {'jaspar__MA0080.4': ['#004D43']},\n",
       "  'TF_info': {'TF_id': '804',\n",
       "   'auc_roc': 0.9854848333124714,\n",
       "   'auc_pr': 0.8760934504971222}},\n",
       " 'CTCF': {'cbust_mot': {'chr17:3904040-3904540': {'jaspar__MA0139.1': [[474,\n",
       "      493,\n",
       "      6.2,\n",
       "      '-'],\n",
       "     [37, 56, 3.84, '+']]},\n",
       "   'chr7:99629389-99629889': {'jaspar__MA0139.1': [[372, 391, 3.97, '-'],\n",
       "     [374, 393, 3.23, '+']]},\n",
       "   'chr22:39487494-39487994': {'jaspar__MA0139.1': [[260, 279, 6.74, '-'],\n",
       "     [635, 654, 4.08, '-']]},\n",
       "   'chr5:42748872-42749372': {'jaspar__MA0139.1': [[291, 310, 3.64, '+']]},\n",
       "   'chr19:49473986-49474486': {'jaspar__MA0139.1': [[294, 313, 11.8, '+']]},\n",
       "   'chr19:48365004-48365504': {'jaspar__MA0139.1': [[505, 524, 4.14, '-']]},\n",
       "   'chr1:85330764-85331264': {'jaspar__MA0139.1': [[168, 187, 7.89, '-']]},\n",
       "   'chr2:20669355-20669855': {'jaspar__MA0139.1': [[456, 475, 4.17, '+']]},\n",
       "   'chr2:230931717-230932217': {'jaspar__MA0139.1': [[656, 675, 6.1, '+'],\n",
       "     [740, 759, 4.77, '-']]},\n",
       "   'chr13:27621480-27621980': {'jaspar__MA0139.1': [[263, 282, 3.55, '-']]},\n",
       "   'chr16:27972438-27972938': {'jaspar__MA0139.1': [[319, 338, 12.5, '-'],\n",
       "     [321, 340, 11.9, '+']]}},\n",
       "  'all_mot': {'jaspar__MA0139.1': ['#004D43']},\n",
       "  'TF_info': {'TF_id': '822',\n",
       "   'auc_roc': 0.9893699624644994,\n",
       "   'auc_pr': 0.9332091428690842}},\n",
       " 'JUN': {'cbust_mot': {'chr19:38814317-38814817': {'jaspar__MA0462.1': [[133,\n",
       "      144,\n",
       "      3.0,\n",
       "      '-']]},\n",
       "   'chr22:31251680-31252180': {'jaspar__MA0462.1': [[44, 55, 7.81, '+'],\n",
       "     [213, 224, 3.94, '+']]},\n",
       "   'chr1:85330764-85331264': {'jaspar__MA0462.1': [[103, 114, 4.83, '+'],\n",
       "     [602, 613, 4.54, '-']]},\n",
       "   'chr13:27621480-27621980': {'jaspar__MA0462.1': [[54, 65, 10.9, '-']]},\n",
       "   'chr17:59187792-59188292': {'jaspar__MA0462.1': [[575, 586, 5.22, '+'],\n",
       "     [579, 590, 4.04, '-']]},\n",
       "   'chr16:27972438-27972938': {'jaspar__MA0462.1': [[582, 593, 7.15, '-']]}},\n",
       "  'all_mot': {'jaspar__MA0462.1': ['#004D43']},\n",
       "  'TF_info': {'TF_id': '435',\n",
       "   'auc_roc': 0.9903957588392335,\n",
       "   'auc_pr': 0.8463998148838878}}}"
      ]
     },
     "execution_count": 14,
     "metadata": {},
     "output_type": "execute_result"
    }
   ],
   "source": [
    "motif_dict = extract_cbust_motifs(data, file_dir, cbust_type)\n",
    "motif_dict"
   ]
  },
  {
   "cell_type": "markdown",
   "metadata": {},
   "source": [
    "### Analysis"
   ]
  },
  {
   "cell_type": "code",
   "execution_count": 15,
   "metadata": {},
   "outputs": [
    {
     "data": {
      "text/plain": [
       "{'EBF1-PAX5': {'EBF1': {'cbust_mot': {'chr17:3904040-3904540': {'jaspar__MA0154.3': [[442,\n",
       "       456,\n",
       "       5.53,\n",
       "       '+'],\n",
       "      [442, 456, 5.3, '-'],\n",
       "      [568, 582, 0.7, '+'],\n",
       "      [568, 582, 6.03, '-']]},\n",
       "    'chr22:39487494-39487994': {'jaspar__MA0154.3': [[85, 99, 4.94, '+'],\n",
       "      [85, 99, 1.21, '-']]},\n",
       "    'chr6:7545331-7545831': {'jaspar__MA0154.3': [[119, 133, 4.05, '+'],\n",
       "      [119, 133, 1.83, '-']]},\n",
       "    'chr22:31251680-31252180': {'jaspar__MA0154.3': [[273, 287, 0.958, '+'],\n",
       "      [273, 287, 6.78, '-']]},\n",
       "    'chr19:49473986-49474486': {'jaspar__MA0154.3': [[454, 468, 3.74, '+'],\n",
       "      [454, 468, 3.66, '-']]},\n",
       "    'chr19:48365004-48365504': {'jaspar__MA0154.3': [[236, 250, 4.98, '+'],\n",
       "      [236, 250, 3.13, '-'],\n",
       "      [352, 366, 3.6, '+'],\n",
       "      [352, 366, 2.55, '-'],\n",
       "      [713, 727, 3.59, '+'],\n",
       "      [713, 727, 2.3, '-']]},\n",
       "    'chr1:85330764-85331264': {'jaspar__MA0154.3': [[433, 447, 4.37, '+'],\n",
       "      [433, 447, 5.44, '-'],\n",
       "      [172, 186, 3.48, '+'],\n",
       "      [172, 186, 1.03, '-']]},\n",
       "    'chr2:230931717-230932217': {'jaspar__MA0154.3': [[156, 170, 7.82, '+'],\n",
       "      [156, 170, 4.52, '-']]},\n",
       "    'chr6:73421678-73422178': {'jaspar__MA0154.3': [[592, 606, 0.464, '+'],\n",
       "      [592, 606, 4.12, '-'],\n",
       "      [668, 682, 1.45, '+'],\n",
       "      [668, 682, 3.08, '-'],\n",
       "      [554, 568, 3.16, '+'],\n",
       "      [554, 568, 0.4, '-'],\n",
       "      [349, 363, 3.17, '+']]},\n",
       "    'chr13:27621480-27621980': {'jaspar__MA0154.3': [[270, 284, 3.31, '+'],\n",
       "      [270, 284, 6.64, '-']]},\n",
       "    'chr16:27972438-27972938': {'jaspar__MA0154.3': [[500, 514, 1.8, '+'],\n",
       "      [500, 514, 5.09, '-']]}},\n",
       "   'all_mot': {'jaspar__MA0154.3': ['#004D43']},\n",
       "   'TF_info': {'TF_id': 250,\n",
       "    'auc_roc': 0.8159366790383675,\n",
       "    'auc_pr': 0.29746820190068934}},\n",
       "  'PAX5': {'cbust_mot': {'chr19:38814317-38814817': {'jaspar__MA0014.2': [[464,\n",
       "       483,\n",
       "       8.69,\n",
       "       '-'],\n",
       "      [341, 360, 6.54, '-'],\n",
       "      [662, 681, 5.51, '-'],\n",
       "      [598, 617, 4.38, '+']]},\n",
       "    'chr17:3904040-3904540': {'jaspar__MA0014.2': [[679, 698, 5.27, '-'],\n",
       "      [200, 219, 3.86, '+']]},\n",
       "    'chr7:99629389-99629889': {'jaspar__MA0014.2': [[609, 628, 5.15, '+'],\n",
       "      [219, 238, 4.5, '-']]},\n",
       "    'chr22:39487494-39487994': {'jaspar__MA0014.2': [[703, 722, 5.34, '-']]},\n",
       "    'chr22:31251680-31252180': {'jaspar__MA0014.2': [[603, 622, 6.66, '-'],\n",
       "      [435, 454, 5.96, '+'],\n",
       "      [714, 733, 1.31, '-'],\n",
       "      [715, 734, 3.44, '-']]},\n",
       "    'chr5:42748872-42749372': {'jaspar__MA0014.2': [[359, 378, 3.96, '-']]},\n",
       "    'chr6:107489954-107490454': {'jaspar__MA0014.2': [[119, 138, 4.38, '+']]},\n",
       "    'chr19:49473986-49474486': {'jaspar__MA0014.2': [[520, 539, 4.79, '-']]},\n",
       "    'chr19:50438213-50438713': {'jaspar__MA0014.2': [[721, 740, 6.18, '+'],\n",
       "      [633, 652, 5.66, '+'],\n",
       "      [570, 589, 5.18, '+']]},\n",
       "    'chr2:20669355-20669855': {'jaspar__MA0014.2': [[416, 435, 4.18, '-'],\n",
       "      [325, 344, 3.51, '+']]},\n",
       "    'chr2:230931717-230932217': {'jaspar__MA0014.2': [[488, 507, 5.48, '+'],\n",
       "      [214, 233, 4.94, '-']]},\n",
       "    'chr4:185208636-185209136': {'jaspar__MA0014.2': [[82, 101, 5.24, '+'],\n",
       "      [160, 179, 5.08, '+'],\n",
       "      [650, 669, 4.37, '+'],\n",
       "      [607, 626, 3.94, '-']]},\n",
       "    'chr6:73421678-73422178': {'jaspar__MA0014.2': [[255, 274, 10.3, '+'],\n",
       "      [648, 667, 4.41, '-'],\n",
       "      [723, 742, 4.05, '+']]},\n",
       "    'chr13:27621480-27621980': {'jaspar__MA0014.2': [[281, 300, 5.79, '+'],\n",
       "      [377, 396, 3.45, '-'],\n",
       "      [384, 403, 3.79, '+']]},\n",
       "    'chr17:59187792-59188292': {'jaspar__MA0014.2': [[53, 72, 8.05, '+'],\n",
       "      [141, 160, 4.62, '+'],\n",
       "      [93, 112, 3.59, '+']]},\n",
       "    'chr16:27972438-27972938': {'jaspar__MA0014.2': [[682, 701, 5.07, '+'],\n",
       "      [296, 315, 3.9, '+']]}},\n",
       "   'all_mot': {'jaspar__MA0014.2': ['#004D43']},\n",
       "   'TF_info': {'TF_id': 724,\n",
       "    'auc_roc': 0.9017281135796048,\n",
       "    'auc_pr': 0.5234551142660586}}},\n",
       " 'SPI1': {'cbust_mot': {'chr19:38814317-38814817': {'jaspar__MA0080.4': [[270,\n",
       "      284,\n",
       "      3.35,\n",
       "      '+']]},\n",
       "   'chr4:185208636-185209136': {'jaspar__MA0080.4': [[514, 528, 6.45, '+']]}},\n",
       "  'all_mot': {'jaspar__MA0080.4': ['#004D43']},\n",
       "  'TF_info': {'TF_id': '804',\n",
       "   'auc_roc': 0.9854848333124714,\n",
       "   'auc_pr': 0.8760934504971222}},\n",
       " 'CTCF': {'cbust_mot': {'chr17:3904040-3904540': {'jaspar__MA0139.1': [[474,\n",
       "      493,\n",
       "      6.2,\n",
       "      '-'],\n",
       "     [37, 56, 3.84, '+']]},\n",
       "   'chr7:99629389-99629889': {'jaspar__MA0139.1': [[372, 391, 3.97, '-'],\n",
       "     [374, 393, 3.23, '+']]},\n",
       "   'chr22:39487494-39487994': {'jaspar__MA0139.1': [[260, 279, 6.74, '-'],\n",
       "     [635, 654, 4.08, '-']]},\n",
       "   'chr5:42748872-42749372': {'jaspar__MA0139.1': [[291, 310, 3.64, '+']]},\n",
       "   'chr19:49473986-49474486': {'jaspar__MA0139.1': [[294, 313, 11.8, '+']]},\n",
       "   'chr19:48365004-48365504': {'jaspar__MA0139.1': [[505, 524, 4.14, '-']]},\n",
       "   'chr1:85330764-85331264': {'jaspar__MA0139.1': [[168, 187, 7.89, '-']]},\n",
       "   'chr2:20669355-20669855': {'jaspar__MA0139.1': [[456, 475, 4.17, '+']]},\n",
       "   'chr2:230931717-230932217': {'jaspar__MA0139.1': [[656, 675, 6.1, '+'],\n",
       "     [740, 759, 4.77, '-']]},\n",
       "   'chr13:27621480-27621980': {'jaspar__MA0139.1': [[263, 282, 3.55, '-']]},\n",
       "   'chr16:27972438-27972938': {'jaspar__MA0139.1': [[319, 338, 12.5, '-'],\n",
       "     [321, 340, 11.9, '+']]}},\n",
       "  'all_mot': {'jaspar__MA0139.1': ['#004D43']},\n",
       "  'TF_info': {'TF_id': '822',\n",
       "   'auc_roc': 0.9893699624644994,\n",
       "   'auc_pr': 0.9332091428690842}},\n",
       " 'JUN': {'cbust_mot': {'chr19:38814317-38814817': {'jaspar__MA0462.1': [[133,\n",
       "      144,\n",
       "      3.0,\n",
       "      '-']]},\n",
       "   'chr22:31251680-31252180': {'jaspar__MA0462.1': [[44, 55, 7.81, '+'],\n",
       "     [213, 224, 3.94, '+']]},\n",
       "   'chr1:85330764-85331264': {'jaspar__MA0462.1': [[103, 114, 4.83, '+'],\n",
       "     [602, 613, 4.54, '-']]},\n",
       "   'chr13:27621480-27621980': {'jaspar__MA0462.1': [[54, 65, 10.9, '-']]},\n",
       "   'chr17:59187792-59188292': {'jaspar__MA0462.1': [[575, 586, 5.22, '+'],\n",
       "     [579, 590, 4.04, '-']]},\n",
       "   'chr16:27972438-27972938': {'jaspar__MA0462.1': [[582, 593, 7.15, '-']]}},\n",
       "  'all_mot': {'jaspar__MA0462.1': ['#004D43']},\n",
       "  'TF_info': {'TF_id': '435',\n",
       "   'auc_roc': 0.9903957588392335,\n",
       "   'auc_pr': 0.8463998148838878}}}"
      ]
     },
     "execution_count": 15,
     "metadata": {},
     "output_type": "execute_result"
    }
   ],
   "source": [
    "with open(cbust_dir + cbust_type + '_region_ISM_cbust.json', 'w') as json_file:\n",
    "    json.dump(motif_dict, json_file)\n",
    "motif_dict"
   ]
  },
  {
   "cell_type": "code",
   "execution_count": 16,
   "metadata": {},
   "outputs": [
    {
     "data": {
      "text/plain": [
       "{'chr19:38814317-38814817': {'jaspar__MA0080.4': [[270, 284, 3.35, '+']]},\n",
       " 'chr4:185208636-185209136': {'jaspar__MA0080.4': [[514, 528, 6.45, '+']]}}"
      ]
     },
     "execution_count": 16,
     "metadata": {},
     "output_type": "execute_result"
    }
   ],
   "source": [
    "motif_dict['SPI1']['cbust_mot']"
   ]
  },
  {
   "cell_type": "code",
   "execution_count": 17,
   "metadata": {},
   "outputs": [
    {
     "data": {
      "text/plain": [
       "{'jaspar__MA0080.4': ['#004D43']}"
      ]
     },
     "execution_count": 17,
     "metadata": {},
     "output_type": "execute_result"
    }
   ],
   "source": [
    "motif_dict['SPI1']['all_mot']"
   ]
  },
  {
   "cell_type": "code",
   "execution_count": null,
   "metadata": {},
   "outputs": [
    {
     "data": {
      "image/png": "[encoded data removed]",
      "text/plain": [
       "<Figure size 2880x216 with 1 Axes>"
      ]
     },
     "metadata": {
      "needs_background": "light"
     },
     "output_type": "display_data"
    }
   ],
   "source": [
    "plot_cbust_with_logo(plotting_id = \"chr10:114471831-114472331\", \n",
    "                     all_motifs_dict=motif_dict['EBF1']['all_mot'], cbust_mot_dict=motif_dict['EBF1']['cbust_mot'], \n",
    "                     threshold=0, st=0, end=768, plot_logos=False ,ymin=-10, ymax=10)"
   ]
  },
  {
   "cell_type": "code",
   "execution_count": null,
   "metadata": {},
   "outputs": [
    {
     "data": {
      "image/png": "[encoded data removed]",
      "text/plain": [
       "<Figure size 2880x216 with 1 Axes>"
      ]
     },
     "metadata": {
      "needs_background": "light"
     },
     "output_type": "display_data"
    },
    {
     "data": {
      "image/png": "[encoded data removed]",
      "text/plain": [
       "<Figure size 360x288 with 1 Axes>"
      ]
     },
     "metadata": {
      "needs_background": "light"
     },
     "output_type": "display_data"
    }
   ],
   "source": [
    "plot_cbust_with_logo(plotting_id = \"chr2:95035655-95036155\", \n",
    "                     all_motifs_dict=motif_dict['EBF1']['all_mot'], cbust_mot_dict=motif_dict['EBF1']['cbust_mot'], \n",
    "                     threshold=0, st=0, end=768, plot_logos=True ,ymin=-10, ymax=10)"
   ]
  }
 ],
 "metadata": {
  "kernelspec": {
   "display_name": "Python 3 (ipykernel)",
   "language": "python",
   "name": "python3"
  },
  "orig_nbformat": 4,
  "vscode": {
   "interpreter": {
    "hash": "828335ba0e43320eceb5f3ef27bfefd4ee6580f131a98f33a51fc574ded7c5a2"
   }
  }
 },
 "nbformat": 4,
 "nbformat_minor": 2
}
